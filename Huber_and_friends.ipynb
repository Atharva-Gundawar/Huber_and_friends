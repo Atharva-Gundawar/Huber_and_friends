{
  "nbformat": 4,
  "nbformat_minor": 0,
  "metadata": {
    "colab": {
      "name": "Huber_and_friends.ipynb",
      "provenance": []
    },
    "kernelspec": {
      "name": "python3",
      "display_name": "Python 3"
    },
    "language_info": {
      "name": "python"
    }
  },
  "cells": [
    {
      "cell_type": "markdown",
      "metadata": {
        "id": "7MRs1Pi6ClWw"
      },
      "source": [
        "# Implimentation of Huber and Pseudo-Huber loss for regression and its Variant for classification"
      ]
    },
    {
      "cell_type": "markdown",
      "metadata": {
        "id": "gFAH-3UTC0e7"
      },
      "source": [
        "## Preparing the colab "
      ]
    },
    {
      "cell_type": "code",
      "metadata": {
        "id": "pwJ8F7_wCdum"
      },
      "source": [
        "import tensorflow as tf\n",
        "import numpy as np\n"
      ],
      "execution_count": 1,
      "outputs": []
    },
    {
      "cell_type": "code",
      "metadata": {
        "id": "zXt-gXp8FoTM"
      },
      "source": [
        "X = np.array([-1.0,  0.0, 1.0, 2.0, 3.0, 4.0], dtype=float)\n",
        "Y = np.array([-3.0, -1.0, 1.0, 3.0, 5.0, 7.0], dtype=float)"
      ],
      "execution_count": 3,
      "outputs": []
    },
    {
      "cell_type": "code",
      "metadata": {
        "colab": {
          "base_uri": "https://localhost:8080/"
        },
        "id": "g8QCsR_aG4Fr",
        "outputId": "e95d382d-5806-4e77-f738-1cbddf7565b8"
      },
      "source": [
        "model = tf.keras.Sequential([tf.keras.layers.Dense(units = 1, input_shape=[1])])\n",
        "model.compile(optimizer='sgd', loss ='mean_squared_error')\n",
        "model.fit(X,Y,epochs=500,verbose=0)\n",
        "print(model.predict([10.0]))"
      ],
      "execution_count": 7,
      "outputs": [
        {
          "output_type": "stream",
          "text": [
            "[[18.981476]]\n"
          ],
          "name": "stdout"
        }
      ]
    },
    {
      "cell_type": "code",
      "metadata": {
        "id": "d5bXaO5eHpx2"
      },
      "source": [
        "def huber_loss(y_true,y_pred,threshold=1):\n",
        "    error = y_true - y_pred\n",
        "    is_small = tf.abs(error) < threshold\n",
        "    small_error = tf.square(error)/2\n",
        "    big_error = threshold * (tf.abs(error) - (0.5 * threshold))\n",
        "    return tf.where(is_small,small_error,big_error)"
      ],
      "execution_count": 36,
      "outputs": []
    },
    {
      "cell_type": "code",
      "metadata": {
        "colab": {
          "base_uri": "https://localhost:8080/"
        },
        "id": "sfXZYXKLIusn",
        "outputId": "651a6bb5-5c7c-4c58-fe42-3b3050af69a8"
      },
      "source": [
        "model = tf.keras.Sequential([tf.keras.layers.Dense(units = 1, input_shape=[1])])\n",
        "model.compile(optimizer='sgd', loss =huber_loss)\n",
        "model.fit(X,Y,epochs=500,verbose=0)\n",
        "print(model.predict([10.0]))"
      ],
      "execution_count": 37,
      "outputs": [
        {
          "output_type": "stream",
          "text": [
            "[[18.751842]]\n"
          ],
          "name": "stdout"
        }
      ]
    },
    {
      "cell_type": "markdown",
      "metadata": {
        "id": "j0s81_fJM9sV"
      },
      "source": [
        "<img src=\"https://wikimedia.org/api/rest_v1/media/math/render/svg/ddb74a0b410409d421e880aa65f57c20393f91c1\" alt=\"MarineGEO circle logo\" style=\"height: 100px; width:100px; background-color: white;\"/>"
      ]
    },
    {
      "cell_type": "code",
      "metadata": {
        "id": "HbcP72b_Ms59"
      },
      "source": [
        "@tf.function\n",
        "def pseudo_huber_loss(y_true,y_pred,threshold = 1):\n",
        "    threshold = tf.convert_to_tensor(threshold, dtype=tf.float32)\n",
        "    error = y_true - y_pred\n",
        "    underoot = tf.sqrt(1 + tf.square(threshold/error))\n",
        "    return threshold * (underoot - 1)"
      ],
      "execution_count": 40,
      "outputs": []
    },
    {
      "cell_type": "code",
      "metadata": {
        "colab": {
          "base_uri": "https://localhost:8080/"
        },
        "id": "9URjHQXXOXi_",
        "outputId": "14b4f9a8-fd02-4b74-f608-051ad83ddfe7"
      },
      "source": [
        "model = tf.keras.Sequential([tf.keras.layers.Dense(units = 1, input_shape=[1])])\n",
        "model.compile(optimizer='sgd', loss =pseudo_huber_loss)\n",
        "model.fit(X,Y,epochs=500,verbose=0)\n",
        "print(model.predict([10.0]))"
      ],
      "execution_count": 41,
      "outputs": [
        {
          "output_type": "stream",
          "text": [
            "[[-1.6253761]]\n"
          ],
          "name": "stdout"
        }
      ]
    },
    {
      "cell_type": "code",
      "metadata": {
        "id": "I8N_2dX6OaEH"
      },
      "source": [
        ""
      ],
      "execution_count": null,
      "outputs": []
    }
  ]
}